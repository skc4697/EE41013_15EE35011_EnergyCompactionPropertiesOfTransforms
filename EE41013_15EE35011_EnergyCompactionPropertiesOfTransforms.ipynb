{
 "cells": [
  {
   "cell_type": "code",
   "execution_count": 2,
   "metadata": {},
   "outputs": [],
   "source": [
    "import numpy as np\n",
    "import math\n",
    "import cmath\n",
    "import matplotlib.pyplot as plt\n",
    "import random"
   ]
  },
  {
   "cell_type": "code",
   "execution_count": 3,
   "metadata": {},
   "outputs": [],
   "source": [
    "def DFT(x):\n",
    "    N = len(x)\n",
    "    D = np.ones((N,N),dtype = complex)\n",
    "    for i in range(1,N):\n",
    "        for k in range(1,N):\n",
    "            D[i][k] = np.exp(-2j*(np.pi*i*k)/N)\n",
    "\n",
    "    y = np.matmul(D,np.transpose(x))\n",
    "    return np.transpose(y)"
   ]
  },
  {
   "cell_type": "code",
   "execution_count": 4,
   "metadata": {},
   "outputs": [],
   "source": [
    "def IDFT(y):\n",
    "    N = len(y)\n",
    "    D = np.ones((N,N),dtype = complex)\n",
    "    for i in range(1,N):\n",
    "        for k in range(1,N):\n",
    "            D[i][k] = np.exp(2j*(np.pi*i*k)/N)\n",
    "\n",
    "    z = np.matmul(D/N,np.transpose(y))\n",
    "    return np.transpose(z)"
   ]
  },
  {
   "cell_type": "code",
   "execution_count": 5,
   "metadata": {},
   "outputs": [],
   "source": [
    "def DCT(x):\n",
    "    N  = len(x)\n",
    "    Y = np.array([0.]*N)\n",
    "    for k in range(N):\n",
    "        for i in range(N):\n",
    "            Y[k] += 2.0*x[i]*math.cos(math.pi*k*(2.0*i+1)/(2.0*N))\n",
    "    return Y"
   ]
  },
  {
   "cell_type": "code",
   "execution_count": 6,
   "metadata": {},
   "outputs": [],
   "source": [
    "def IDCT(y):\n",
    "    N  = len(y)\n",
    "    Y = np.array([0.]*N)\n",
    "    for i in range(N):\n",
    "        for k in range(N):\n",
    "            if k == 0:\n",
    "                CONST = 0.5\n",
    "            else:\n",
    "                CONST = 1    \n",
    "            Y[i] += CONST*y[k]*math.cos(math.pi*k*(2*i+1)/(2*N))\n",
    "    return Y/N"
   ]
  },
  {
   "cell_type": "code",
   "execution_count": 7,
   "metadata": {},
   "outputs": [],
   "source": [
    "h1 = np.array([[1,1],[1,-1]])/math.sqrt(2)\n",
    "def haar_matrix(n):\n",
    "    n = int(n)\n",
    "    if n == 1:\n",
    "        return h1\n",
    "    else:\n",
    "        a = np.kron(haar_matrix(n-1),[1,1])\n",
    "        b = np.kron(np.identity(int(math.pow(2,n-1)))*math.pow(2,(n-1)/2.0),[1,-1])\n",
    "        return np.concatenate((a,b),axis=0)/math.sqrt(2)\n",
    "\n",
    "def haar(x):\n",
    "    return np.matmul(haar_matrix(math.log(len(x),2)),np.transpose(x))"
   ]
  },
  {
   "cell_type": "code",
   "execution_count": 8,
   "metadata": {},
   "outputs": [],
   "source": [
    "def inverse_haar(y):\n",
    "    n = int(math.log(len(y),2))\n",
    "    N = len(y)\n",
    "    hn = haar_matrix(n)\n",
    "    return np.matmul(np.transpose(hn)/N,np.transpose(y))"
   ]
  },
  {
   "cell_type": "code",
   "execution_count": 9,
   "metadata": {},
   "outputs": [],
   "source": [
    "def Energy_dft(x,L):\n",
    "    y = DFT(x)\n",
    "    N = len(y)\n",
    "    a = int((N+1-L)/2)\n",
    "    b = int((N-1+L)/2)\n",
    "    for i in range(a,b+1):\n",
    "        y[i] = 0\n",
    "    x_m = IDFT(y)\n",
    "\n",
    "    return ((x - x_m) ** 2).mean(axis=0)\n"
   ]
  },
  {
   "cell_type": "code",
   "execution_count": 10,
   "metadata": {},
   "outputs": [],
   "source": [
    "def Energy_haar(x,L):\n",
    "    y = haar(x)\n",
    "    N = len(y)\n",
    "    for i in range(N-L,N):\n",
    "        y[i] = 0\n",
    "    x_m = inverse_haar(y)\n",
    "\n",
    "    return ((x - x_m) ** 2).mean(axis=0)"
   ]
  },
  {
   "cell_type": "code",
   "execution_count": 11,
   "metadata": {},
   "outputs": [],
   "source": [
    "def Energy_dct(x,L):\n",
    "    y = DCT(x)\n",
    "    N = len(y)\n",
    "    for i in range(N-L,N):\n",
    "        y[i] = 0\n",
    "    x_m = IDCT(y)\n",
    "\n",
    "    return ((x - x_m) ** 2).mean(axis=0)"
   ]
  },
  {
   "cell_type": "code",
   "execution_count": 13,
   "metadata": {},
   "outputs": [
    {
     "name": "stdout",
     "output_type": "stream",
     "text": [
      "\n",
      "X:  [68 75 78  1 70 44 49 34 36 37 61 76 31 83 30 41 27 19 38 47 28 67 12  9\n",
      " 91 80 66 59 24 29 79 74 77 94  3  2 95 58 86  4 23 93 10 55 15 22 21 69\n",
      " 64 20 48 72 60  6 89 98  7 50 88 96 33 62 71 85]\n"
     ]
    },
    {
     "name": "stderr",
     "output_type": "stream",
     "text": [
      "/home/shivam/anaconda3/lib/python3.6/site-packages/numpy/core/numeric.py:492: ComplexWarning: Casting complex values to real discards the imaginary part\n",
      "  return array(a, dtype, copy=False, order=order)\n"
     ]
    },
    {
     "data": {
      "image/png": "[encoded data removed]",
      "text/plain": [
       "<Figure size 432x288 with 1 Axes>"
      ]
     },
     "metadata": {},
     "output_type": "display_data"
    }
   ],
   "source": [
    "X = np.array(random.sample(range(100),64))\n",
    "print(\"\\nX: \", X)\n",
    "plt.figure()\n",
    "ydft = [0.]*64\n",
    "ydct = [0.]*64\n",
    "yhaar = [0.]*64\n",
    "for L in range(64):\n",
    "    ydft[L] = Energy_dft(X,L)\n",
    "    ydct[L] = Energy_dct(X,L)\n",
    "    yhaar[L] = Energy_haar(X,L) \n",
    "plt.title('Energy Compaction Properties of Transforms Plot')\n",
    "plt.plot(range(64),ydft,'--g',label = \"DFT\")\n",
    "plt.plot(range(64),ydct,'-r',label = 'DCT')\n",
    "plt.plot(range(64),yhaar,'-y',label = 'Haar')\n",
    "plt.legend(loc='center left')    \n",
    "plt.xlabel(\"L\")\n",
    "plt.ylabel(\"E(L)\")\n",
    "plt.show()"
   ]
  },
  {
   "cell_type": "code",
   "execution_count": null,
   "metadata": {},
   "outputs": [],
   "source": []
  }
 ],
 "metadata": {
  "kernelspec": {
   "display_name": "Python 3",
   "language": "python",
   "name": "python3"
  },
  "language_info": {
   "codemirror_mode": {
    "name": "ipython",
    "version": 3
   },
   "file_extension": ".py",
   "mimetype": "text/x-python",
   "name": "python",
   "nbconvert_exporter": "python",
   "pygments_lexer": "ipython3",
   "version": "3.6.5"
  }
 },
 "nbformat": 4,
 "nbformat_minor": 2
}
